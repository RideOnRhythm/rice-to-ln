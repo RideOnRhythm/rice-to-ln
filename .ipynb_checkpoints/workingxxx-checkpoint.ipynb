{
 "cells": [
  {
   "cell_type": "code",
   "execution_count": null,
   "id": "7be65fcf",
   "metadata": {},
   "outputs": [],
   "source": [
    "\n",
    "from tkinter import Tk     # from tkinter import Tk for Python 3.x\n",
    "from tkinter.filedialog import askopenfilename\n",
    "\n",
    "filename = askopenfilename() # show an \"Open\" dialog box and return the path to the selected file\n",
    "print(filename)\n"
   ]
  },
  {
   "cell_type": "code",
   "execution_count": null,
   "id": "8311aedb",
   "metadata": {},
   "outputs": [],
   "source": [
    "from tkinter import Tk     # from tkinter import Tk for Python 3.x\n",
    "from tkinter.filedialog import askopenfilename\n",
    "import os \n",
    "\n",
    "Tk().withdraw() # we don't want a full GUI, so keep the root window from appearing\n",
    "file_name = askopenfilename() # show an \"Open\" dialog box and return the path to the selected file\n",
    "\n",
    "new_file = os.path.dirname(file_name) + '\\\\' + os.path.basename(file_name)[:-4] + '[no ln].osu'\n",
    "# print(file_name, '\\n', new_file)\n",
    "with open(new_file, 'w') as g:\n",
    "    with open(file_name) as f:\n",
    "        data = f.readlines()\n",
    "        hit_start = False\n",
    "        for i in range(len(data)):\n",
    "            line = data[i]\n",
    "            if hit_start:\n",
    "                line = line.split(',')\n",
    "                line[3] = '1'\n",
    "                hitSample = line[5].split(':')\n",
    "                if len(hitSample) == 6:\n",
    "                    hitSample = hitSample[1:]\n",
    "                line[5] = \":\".join(hitSample)   \n",
    "                line = ','.join(line)\n",
    "            if line[:7] == 'Version':\n",
    "                line = line[:-1] + ' no ln\\n' \n",
    "\n",
    "            if line == '[HitObjects]\\n':\n",
    "                hit_start = True\n",
    "            data[i] = line\n",
    "\n",
    "        g.writelines(data)\n"
   ]
  },
  {
   "cell_type": "code",
   "execution_count": 2,
   "id": "260b0b1d",
   "metadata": {},
   "outputs": [
    {
     "data": {
      "text/plain": [
       "'cp65001'"
      ]
     },
     "execution_count": 2,
     "metadata": {},
     "output_type": "execute_result"
    }
   ],
   "source": [
    "import locale; locale.getpreferredencoding()"
   ]
  },
  {
   "cell_type": "code",
   "execution_count": null,
   "id": "89a6ce7f",
   "metadata": {},
   "outputs": [],
   "source": [
    "filedir = os.getcwd()\n",
    "for file in os.listdir(filedir):\n",
    "    if file[-4:] == '.osu':\n",
    "        file_name = os.path.join(filedir, file)\n",
    "        new_file = os.path.dirname(file_name) + '\\\\' + os.path.basename(file_name)[:-4] + '[no ln].osu'\n",
    "        print(file_name, '\\n', new_file)\n",
    "        with open(new_file, 'w') as g:\n",
    "            with open(file_name) as f:\n",
    "                data = f.readlines()\n",
    "                hit_start = False\n",
    "                for i in range(len(data)):\n",
    "                    line = data[i]\n",
    "                    if hit_start:\n",
    "                        line = line.split(',')\n",
    "                        line[3] = '1'\n",
    "                        hitSample = line[5].split(':')\n",
    "                        if len(hitSample) == 6:\n",
    "                            hitSample = hitSample[1:]\n",
    "                        line[5] = \":\".join(hitSample)   \n",
    "                        line = ','.join(line)\n",
    "                    if line[:7] == 'Version':\n",
    "                        line = line[:-1] + ' no ln\\n' \n",
    "\n",
    "                    if line == '[HitObjects]\\n':\n",
    "                        hit_start = True\n",
    "                    data[i] = line\n",
    "                    \n",
    "                g.writelines(data)"
   ]
  }
 ],
 "metadata": {
  "kernelspec": {
   "display_name": "Python 3 (ipykernel)",
   "language": "python",
   "name": "python3"
  },
  "language_info": {
   "codemirror_mode": {
    "name": "ipython",
    "version": 3
   },
   "file_extension": ".py",
   "mimetype": "text/x-python",
   "name": "python",
   "nbconvert_exporter": "python",
   "pygments_lexer": "ipython3",
   "version": "3.11.4"
  }
 },
 "nbformat": 4,
 "nbformat_minor": 5
}
